{
 "cells": [
  {
   "cell_type": "markdown",
   "id": "1e7b2702",
   "metadata": {},
   "source": [
    "# Punt plays for each season\n",
    "\n",
    "Using the punt tracking data, punt data, and pff data, we want to match each punt with when it hits the ground or goes out of bounds (if it goes straight OoB)."
   ]
  },
  {
   "cell_type": "code",
   "execution_count": 1,
   "id": "bcff721f",
   "metadata": {},
   "outputs": [
    {
     "data": {
      "text/plain": [
       "2018    2128\n",
       "2019    2008\n",
       "2020    1667\n",
       "2021     114\n",
       "Name: gameId, dtype: int64"
      ]
     },
     "metadata": {},
     "output_type": "display_data"
    },
    {
     "name": "stdout",
     "output_type": "stream",
     "text": [
      "Total plays: 5917\n"
     ]
    }
   ],
   "source": [
    "import pandas as pd\n",
    "import matplotlib.pyplot as plt\n",
    "import numpy as np\n",
    "\n",
    "play_data = pd.read_csv('./data/plays.csv')\n",
    "pff_data = pd.read_csv('./data/PFFScoutingData.csv')\n",
    "\n",
    "discard_results = ['Non-Special Teams Result']#,'Blocked Punt']\n",
    "punt_plays = play_data[(play_data['specialTeamsPlayType']=='Punt')&(~play_data['specialTeamsResult'].isin(discard_results))]\n",
    "pff_punt = pff_data.merge(punt_plays[['gameId','playId']],on=['gameId','playId'],how='inner')\n",
    "\n",
    "display((punt_plays['gameId']//10**6).value_counts())\n",
    "print('Total plays: ' + str(len(punt_plays)))"
   ]
  },
  {
   "cell_type": "markdown",
   "id": "9bb92168",
   "metadata": {},
   "source": [
    "#### Load each year's tracking data and keep only the football for punt plays"
   ]
  },
  {
   "cell_type": "code",
   "execution_count": null,
   "id": "7c3cf6b5",
   "metadata": {},
   "outputs": [],
   "source": [
    "# 2018 Football Tracking Data\n",
    "tracking_game = pd.read_csv('./data/tracking2018.csv', chunksize=10**5)\n",
    "football_tracking = pd.concat((x.query(\"displayName == 'football'\") for x in tracking_game), ignore_index=True)\n",
    "punt_fbtrack_18 = football_tracking.merge(punt_plays[['gameId','playId']],on=['gameId','playId'])\n",
    "punt_fbtrack_18['time'] = pd.to_datetime(punt_fbtrack_18['time'])\n",
    "\n",
    "# 2019 Football Tracking Data\n",
    "tracking_game = pd.read_csv('./data/tracking2019.csv', chunksize=10**5)\n",
    "football_tracking = pd.concat((x.query(\"displayName == 'football'\") for x in tracking_game), ignore_index=True)\n",
    "punt_fbtrack_19 = football_tracking.merge(punt_plays[['gameId','playId']],on=['gameId','playId'])\n",
    "punt_fbtrack_19['time'] = pd.to_datetime(punt_fbtrack_19['time'])\n",
    "\n",
    "# 2020 Football Tracking Data\n",
    "tracking_game = pd.read_csv('./data/tracking2020.csv', chunksize=10**5)\n",
    "football_tracking = pd.concat((x.query(\"displayName == 'football'\") for x in tracking_game), ignore_index=True)\n",
    "punt_fbtrack_20 = football_tracking.merge(punt_plays[['gameId','playId']],on=['gameId','playId'])\n",
    "punt_fbtrack_20['time'] = pd.to_datetime(punt_fbtrack_20['time'])\n",
    "\n",
    "# Combine all above tracking data\n",
    "punt_fbtrack = pd.concat([punt_fbtrack_18,punt_fbtrack_19,punt_fbtrack_20]) \\\n",
    "                .sort_values(by=['gameId','playId','frameId']) \\\n",
    "                .drop(columns=['o','dir','nflId','displayName','jerseyNumber','position','team']) \\\n",
    "                .reset_index(drop=True)"
   ]
  },
  {
   "cell_type": "markdown",
   "id": "5f97d332",
   "metadata": {},
   "source": [
    "## The goal is to find the first frame where the ball hits the ground after the punt\n",
    "\n",
    "#### Useful functions that will be commonly used throughout the processing"
   ]
  },
  {
   "cell_type": "code",
   "execution_count": null,
   "id": "ba21e5a4",
   "metadata": {},
   "outputs": [],
   "source": [
    "# Create a table of events that occur during the punt play, removing a list of excluded events.\n",
    "def event_table(df, exc_list=[]):\n",
    "    df_trim = df[(~df['event'].isin(exc_list))&(df['event']!='None')].copy()\n",
    "    df_trim['event_num'] = df_trim.groupby(['gameId','playId']).apply(lambda x: (x['event']!='').cumsum()) \\\n",
    "                                    .reset_index([0,1],drop=True)\n",
    "    return pd.pivot_table(df_trim, values='event', index=['gameId','playId'],columns='event_num',aggfunc=lambda x: ''.join(x))\n",
    "\n",
    "\n",
    "# Given a list of events that signal the landing frame of a play, pull out the landing frame.\n",
    "# Further restriction of plays to a particular PFF Contact Type is accepted.\n",
    "def find_landing_frame(df, accepted_events, contact_type = None):\n",
    "    punts = df.copy()\n",
    "    if contact_type != None:\n",
    "        # Limit punt data to specific PFF Contact Type punts\n",
    "        punts = select_contact_types(punts, contact_type)\n",
    "    \n",
    "    accept_frame = punts[punts['event'].isin(accepted_events)].drop_duplicates(subset=['gameId','playId'])\n",
    "    \n",
    "    temp = punts.merge(accept_frame[['gameId','playId','frameId']], on=['gameId','playId'],how='left')\n",
    "    remaining_punts = temp[temp['frameId_y'].isna()][['gameId','playId']].drop_duplicates()\n",
    "    \n",
    "    return [accept_frame, remaining_punts]\n",
    "\n",
    "\n",
    "# Pull the plays that match a particular PFF Contact Type\n",
    "def select_contact_types(df, contact_type):\n",
    "    return df.merge(pff_punt[pff_punt['kickContactType'].isin(contact_type)][['gameId','playId']])\n",
    "    \n",
    "    \n",
    "\n",
    "\n",
    "drop_event_list = ['ball_snap','line_set','safety','pass_forward','fumble','tackle','first_contact',\n",
    "                   'fumble_offense_recovered','penalty_flag','fumble_defense_recovered','lateral',\n",
    "                   'pass_outcome_caught','penalty_accepted','play_action','touchdown','shift','man_in_motion',\n",
    "                   'huddle_break_offense','huddle_start_offense']\n",
    "# display(event_table(punt_fbtrack,drop_event_list).apply(pd.Series.value_counts))\n",
    "\n",
    "# a, b = find_landing_frame(punt_fbtrack,cc_events,['CC'])\n",
    "# display(a)\n",
    "# display(b)\n",
    "\n",
    "\n",
    "# cc_events = ['fair_catch','punt_received','punt_land','punt_downed','punt_muffed']\n",
    "# oob_events = ['out_of_bounds','punt_land','kick_received','punt_muffed','punt_received','fair_catch']\n",
    "# bc_events = ['punt_received','fair_catch','punt_muffed']\n",
    "# dez_events = ['punt_land','touchback']"
   ]
  },
  {
   "cell_type": "markdown",
   "id": "703c228b",
   "metadata": {},
   "source": [
    "### Separate DEZ and OOB from the remaining punts.\n",
    "\n",
    "These events have special conditions, where events that typically signal the ball landing may occur after the ball has exited the field of play."
   ]
  },
  {
   "cell_type": "code",
   "execution_count": null,
   "id": "504bbd57",
   "metadata": {},
   "outputs": [],
   "source": [
    "# Select OOB and DEZ events and find all frames where the ball is out of bounds or past the endzones\n",
    "# Label these frames with a new event (if current event is None) to label that the ball has left the field of play.\n",
    "check_inbound_punts = select_contact_types(punt_fbtrack,['OOB','DEZ'])\n",
    "check_inbound_punts.loc[\n",
    "    ((check_inbound_punts['x']<10)|(check_inbound_punts['x']>110) # Touchback\n",
    "    |(check_inbound_punts['y']<0)|(check_inbound_punts['y']>160/3)) # Out of Bound\n",
    "    &(check_inbound_punts['event']=='None'), # Do not replace other events\n",
    "    'event'] = 'out_bound'\n",
    "\n",
    "outbound_events = ['out_bound','out_of_bounds','punt_land','kick_received','punt_muffed','punt_received','fair_catch','touchback']\n",
    "outbound_plays,b=find_landing_frame(check_inbound_punts, outbound_events)\n",
    "display(outbound_plays)\n",
    "display(b)"
   ]
  },
  {
   "cell_type": "markdown",
   "id": "1f988be1",
   "metadata": {},
   "source": [
    "## All remaining plays should have the ball land/caught in bounds\n",
    "\n",
    "Using Hang Time from PFF data to find the frame where the ball lands will be the primary method we use.  There is some inconsistency with event labels in the tracking data, thus we do not rely on any particular event (such as punt_land etc).  However, we can see how well the hang time method corresponds to the nearest events in the tracking data.\n",
    "\n",
    "Note, there is 1 play where the punt event is clearly mistimed.  We wil manually exclude this event in the first part of the analysis."
   ]
  },
  {
   "cell_type": "code",
   "execution_count": null,
   "id": "391872be",
   "metadata": {
    "scrolled": false
   },
   "outputs": [],
   "source": [
    "# Look at non-OOB/DEZ punt plays\n",
    "# Add hangTime from PFF data to the frame where there is a punt or autoevent_kick event in the tracking data\n",
    "# This time gives a frame where the ball is recorded to land.\n",
    "# Most of the times, this frame will not have an event listed, but it will be very close to a large number of possible events\n",
    "in_plays = punt_fbtrack.merge(pff_punt[~pff_punt['kickContactType'].isin(['OOB','DEZ'])][['gameId','playId','hangTime']])\n",
    "ball_data_oob = in_plays[((in_plays['y']<0)|(in_plays['y']>160/3))&(in_plays['frameId']<30)].drop_duplicates(subset=['gameId','playId'])\n",
    "ball_data_oob['Drop'] = 'Yes'\n",
    "in_plays = in_plays.merge(ball_data_oob[['gameId','playId','Drop']],how='left')\n",
    "in_plays.drop(in_plays[in_plays['Drop']=='Yes'].index,inplace=True)#.drop(columns=['Drop'],inplace=True)\n",
    "\n",
    "punt_frames = in_plays[in_plays['event'].isin(['punt','autoevent_kickoff'])].drop_duplicates(subset=['gameId','playId'],keep='last').copy()\n",
    "punt_frames['landFrame'] = punt_frames['frameId'] + np.ceil(10*punt_frames['hangTime'])\n",
    "\n",
    "# One play has the 'punt'-event frame clearly with significant error, so we exclude this event.\n",
    "punt_frames.drop(punt_frames[(punt_frames['gameId']==2018112507)&(punt_frames['playId']==560)].index,inplace=True)\n",
    "\n",
    "# Save the frames equal to the calculated landing frame\n",
    "in_plays = in_plays.merge(punt_frames[['gameId','playId','landFrame']],how='left')\n",
    "htfmpunt_plays = in_plays[in_plays['frameId']==in_plays['landFrame']].copy()\n",
    "htfmpunt_plays['Found'] = 'Yes'\n",
    "\n",
    "# Filter out the plays that cannot be found this way\n",
    "in_plays_remain = in_plays.merge(htfmpunt_plays[['gameId','playId','Found']],how='left')\n",
    "in_plays_remain = in_plays_remain[in_plays_remain['Found'].isna()]\n",
    "htfmpunt_plays = htfmpunt_plays.iloc[:,:-3]\n",
    "display(htfmpunt_plays)\n",
    "display(in_plays_remain)"
   ]
  },
  {
   "cell_type": "code",
   "execution_count": null,
   "id": "11118bc3",
   "metadata": {},
   "outputs": [],
   "source": [
    "in_plays['frames_from_land'] = np.abs(in_plays['frameId'] - in_plays['landFrame'])\n",
    "\n",
    "fig,ax = plt.subplots(figsize=(12,8))\n",
    "exclude_list = ['None','penalty_flag','line_set','ball_snap','man_in_motion']\n",
    "for a,b in in_plays[~in_plays['event'].isin(exclude_list)].sort_values('frames_from_land').groupby(['gameId','playId']).first().groupby('event'):\n",
    "    ax.plot(b['frameId'],b['landFrame'],'.',label=a)\n",
    "ax.legend(bbox_to_anchor=(1.02, 1), loc='upper left')\n",
    "plt.plot(np.linspace(0,100,10),np.linspace(0,100,10),'k--')\n",
    "plt.xlim(20,120)\n",
    "plt.ylim(40,100)\n",
    "plt.show()"
   ]
  },
  {
   "cell_type": "markdown",
   "id": "b2acfc43",
   "metadata": {},
   "source": [
    "#### Look at events with large values between events and landing frame"
   ]
  },
  {
   "cell_type": "code",
   "execution_count": null,
   "id": "5c32e8c7",
   "metadata": {},
   "outputs": [],
   "source": [
    "ordered_events = in_plays[(in_plays['event']!='None')&(~in_plays['frames_from_land'].isna())].sort_values(['gameId','playId','frames_from_land'],ascending=True).copy()\n",
    "ordered_events['order'] = ordered_events.groupby(['gameId','playId']).cumcount()\n",
    "nearest_events_to_land = pd.pivot_table(ordered_events,values='event',index=['gameId','playId'],columns='order',aggfunc=lambda x: ''.join(x))\n",
    "nearest_events_to_land"
   ]
  },
  {
   "cell_type": "code",
   "execution_count": null,
   "id": "f12b06d2",
   "metadata": {},
   "outputs": [],
   "source": [
    "temp = ordered_events.groupby(['gameId','playId']).first()\n",
    "large_time = punt_plays.merge(temp[temp['frames_from_land']>15].reset_index([0,1])[['gameId','playId','event','x','frameId','landFrame']])\n",
    "large_time"
   ]
  },
  {
   "cell_type": "markdown",
   "id": "0aff5325",
   "metadata": {},
   "source": [
    "## Remaining plays that land in bounds\n",
    "\n",
    "Some plays have the ball entirely out of bounds, which we will remove for now."
   ]
  },
  {
   "cell_type": "code",
   "execution_count": null,
   "id": "533566bd",
   "metadata": {},
   "outputs": [],
   "source": [
    "no_ht = in_plays_remain[in_plays_remain['hangTime'].isna()].copy()\n",
    "no_lt = in_plays_remain[(~in_plays_remain['hangTime'].isna())&(in_plays_remain['landFrame'].isna())].iloc[:,:-2].copy()\n",
    "no_frame = in_plays_remain[(~in_plays_remain['hangTime'].isna())&(~in_plays_remain['landFrame'].isna())].copy()"
   ]
  },
  {
   "cell_type": "markdown",
   "id": "fe40a91d",
   "metadata": {},
   "source": [
    "### No Landing Time\n",
    "\n",
    "These events occur when no 'punt' event frame is found.  This can be easily resolved by adding operationTime and hangTime to the ball_snap frame."
   ]
  },
  {
   "cell_type": "code",
   "execution_count": null,
   "id": "e74f8713",
   "metadata": {},
   "outputs": [],
   "source": [
    "no_lt = no_lt.merge(pff_punt[['gameId','playId','operationTime']])\n",
    "snap_frames = no_lt[no_lt['event']=='ball_snap'].copy()\n",
    "snap_frames['landTime'] = snap_frames['frameId'] + np.floor(10*(no_lt['operationTime']+no_lt['hangTime']))\n",
    "no_lt = no_lt.merge(snap_frames[['gameId','playId','landTime']])"
   ]
  },
  {
   "cell_type": "markdown",
   "id": "c55cdae6",
   "metadata": {},
   "source": [
    "### Landing Frame after last frame of the tracking data\n",
    "\n",
    "11 plays have tracking data end before the punt lands\n",
    "\n",
    "3 of these plays are from the same game, with the data ending several frames before the landing frame\n",
    "\n",
    "The remaining 8 plays end 3 or fewer frames early."
   ]
  },
  {
   "cell_type": "code",
   "execution_count": null,
   "id": "72003ee7",
   "metadata": {},
   "outputs": [],
   "source": [
    "no_frame_last = no_frame.drop_duplicates(subset=['gameId','playId'],keep='last')\n",
    "no_frame_last_keep = no_frame_last[no_frame_last['landFrame'] - no_frame_last['frameId']<=3]\n",
    "no_frame_last_remove = no_frame_last[no_frame_last['landFrame'] - no_frame_last['frameId']>3]"
   ]
  },
  {
   "cell_type": "code",
   "execution_count": null,
   "id": "cd6e06fa",
   "metadata": {
    "scrolled": true
   },
   "outputs": [],
   "source": [
    "no_frame_keepevents = no_frame.merge(no_frame_last_keep[['gameId','playId']])\n",
    "no_frame_keepevents[no_frame_keepevents['event']!='None']"
   ]
  },
  {
   "cell_type": "markdown",
   "id": "b872647b",
   "metadata": {},
   "source": [
    "### No Hang Time\n",
    "\n",
    "42 Total events\n",
    "\n",
    "6 are actual punts which were deflected.  We can use kick length and events during tracking to find the ball landing.  Of these events, 4 have events that can be used. The remaining two can be manually found.\n",
    "\n",
    "gameId = 2018102111\n",
    "playId = 3651\n",
    "ball bounces on frame 38.\n",
    "\n",
    "gameId = 2020100401\n",
    "playId = 211\n",
    "ball bounces on frame 54.\n",
    "\n",
    "\n",
    "36 are blocked punts > For now, these events will be discarded."
   ]
  },
  {
   "cell_type": "code",
   "execution_count": null,
   "id": "8df1ca92",
   "metadata": {
    "scrolled": true
   },
   "outputs": [],
   "source": [
    "no_ht_kct = no_ht.merge(pff_punt[['gameId','playId','kickContactType']]).drop(columns=['hangTime','landFrame','Found'])\n",
    "no_ht_kct = no_ht_kct.merge(punt_plays[['gameId','playId','playDescription','specialTeamsResult','kickLength']])\n",
    "no_ht_kct.drop_duplicates(subset=['gameId','playId'])['specialTeamsResult'].value_counts()"
   ]
  },
  {
   "cell_type": "code",
   "execution_count": null,
   "id": "8ac7d211",
   "metadata": {},
   "outputs": [],
   "source": [
    "no_ht_punts,unfound = find_landing_frame(no_ht_kct[(no_ht_kct['specialTeamsResult']!='Blocked Punt')],['fair_catch','punt_received','punt_land'])\n",
    "unfound['frameId'] = np.array([38,54])\n",
    "no_ht_punts = pd.concat([no_ht_punts,no_ht_kct.merge(unfound)])"
   ]
  },
  {
   "cell_type": "markdown",
   "id": "8ab4a330",
   "metadata": {},
   "source": [
    "#### Blocked punts"
   ]
  },
  {
   "cell_type": "code",
   "execution_count": null,
   "id": "3ee90009",
   "metadata": {},
   "outputs": [],
   "source": [
    "blocked_punts = no_ht_kct[(no_ht_kct['specialTeamsResult']=='Blocked Punt')].drop(columns=['Drop','kickContactType','specialTeamsResult','kickLength'])\n",
    "check_block = blocked_punts[~blocked_punts['event'].isin(['None','punt','punt_blocked','line_set','penalty_flag','man_in_motion'])].copy()\n",
    "check_block['event_num'] = check_block.groupby(['gameId','playId']).cumcount()\n",
    "blocked_punts = blocked_punts.merge(pd.pivot_table(check_block,values='frameId',index=['gameId','playId'],columns='event_num')[[0,1]].reset_index([0,1]))\n",
    "block_frames = blocked_punts[(blocked_punts['frameId']<=blocked_punts[1])&(blocked_punts['frameId']>=blocked_punts[0])]\n",
    "block_frames = block_frames.merge(block_frames.groupby(['gameId','playId'])['x'].first().reset_index([0,1]).rename({'x':'first_x'},axis=1))\n",
    "#block_frames.drop_duplicates(subset=['gameId','playId'])"
   ]
  },
  {
   "cell_type": "code",
   "execution_count": null,
   "id": "388b6344",
   "metadata": {},
   "outputs": [],
   "source": [
    "block_frames['x_dist_from_first'] = (block_frames['x']-block_frames['first_x'])*(-1)**(block_frames['playDirection']=='left')\n",
    "#block_frames#[block_frames['x_dist_from_first']>0]"
   ]
  },
  {
   "cell_type": "markdown",
   "id": "a73688b1",
   "metadata": {},
   "source": [
    "### Miscellaneous"
   ]
  },
  {
   "cell_type": "code",
   "execution_count": null,
   "id": "c05ab83c",
   "metadata": {},
   "outputs": [],
   "source": [
    "test = punt_plays.merge(in_plays[in_plays['frameId']==in_plays['landFrame']][['gameId','playId','x','playDirection']] \\\n",
    "                        .drop_duplicates(subset=['gameId','playId'])) \\\n",
    "                        .merge(pff_punt[['gameId','playId','kickContactType']])\n",
    "test['a'] = test['absoluteYardlineNumber'] + test['kickLength']*(-1)**(test['playDirection']=='left')\n",
    "\n",
    "# Transform all play into right-directional data\n",
    "test['x'] = 60 - (60-test['x'])*(-1)**(test['playDirection']=='left')\n",
    "test['a'] = 60 - (60-test['a'])*(-1)**(test['playDirection']=='left')\n",
    "\n",
    "#[test['kickContactType']=='CC']\n",
    "fig,ax = plt.subplots(figsize=(12,8))\n",
    "for a,b in test.groupby('kickContactType'):\n",
    "    ax.plot(b['a'],b['x'],'.',label=a)\n",
    "ax.legend(bbox_to_anchor=(1.02, 1), loc='upper left')\n",
    "plt.plot(np.linspace(0,120,10),np.linspace(0,120,10),'k--')\n",
    "plt.xlim(35,115)\n",
    "plt.ylim(20,115)\n",
    "plt.show()"
   ]
  },
  {
   "cell_type": "markdown",
   "id": "b31d1878",
   "metadata": {},
   "source": [
    "## Combine all data on landing frame"
   ]
  },
  {
   "cell_type": "code",
   "execution_count": null,
   "id": "de748778",
   "metadata": {},
   "outputs": [],
   "source": [
    "print(len(outbound_plays),len(htfmpunt_plays),len(no_lt[no_lt['frameId']==no_lt['landTime']]),len(no_frame_last_keep),len(no_ht_punts))\n",
    "print(len(ball_data_oob),len(no_frame_last_remove.drop_duplicates(subset=['gameId','playId'])),len(blocked_punts.drop_duplicates(subset=['gameId','playId'])))"
   ]
  },
  {
   "cell_type": "code",
   "execution_count": null,
   "id": "1d62b9ca",
   "metadata": {},
   "outputs": [],
   "source": [
    "landFrame_data = pd.concat([outbound_plays,htfmpunt_plays,no_lt[no_lt['frameId']==no_lt['landTime']],no_frame_last_keep,no_ht_punts],\n",
    "          ignore_index=True)\n",
    "landFrame_data = landFrame_data[['time','x','y','frameId','event','gameId','playId','playDirection']]\n",
    "landFrame_data = landFrame_data.merge(pff_punt[['gameId','playId','hangTime']])\n",
    "\n",
    "punt_frame_noht = punt_fbtrack[punt_fbtrack['event']=='punt'] \\\n",
    "    .merge(landFrame_data[landFrame_data['hangTime'].isna()][['gameId','playId','frameId']],on=['gameId','playId'])\n",
    "\n",
    "punt_frame_noht['hangTime'] = (punt_frame_noht['frameId_y'] - punt_frame_noht['frameId_x'])/10\n",
    "\n",
    "landFrame_data = landFrame_data.merge(punt_frame_noht[['gameId','playId','hangTime']],on=['gameId','playId'],how='left').fillna({'hangTime_x':0,'hangTime_y':0})\n",
    "landFrame_data['hangTime'] = landFrame_data['hangTime_x'] + landFrame_data['hangTime_y']\n",
    "landFrame_data.drop(columns=['hangTime_x','hangTime_y'],inplace=True)\n",
    "\n",
    "landFrame_data_red = landFrame_data[['gameId','playId','x','y','hangTime','frameId','playDirection']] \\\n",
    "        .sort_values(by=['gameId','playId'],ascending=True,ignore_index=True)\n",
    "landFrame_data_red"
   ]
  },
  {
   "cell_type": "code",
   "execution_count": 20,
   "id": "a3efe8db",
   "metadata": {},
   "outputs": [],
   "source": [
    "landFrame_data_red.to_csv('fb_land.csv', index=False)"
   ]
  },
  {
   "cell_type": "code",
   "execution_count": null,
   "id": "79b5ab0a",
   "metadata": {},
   "outputs": [],
   "source": []
  }
 ],
 "metadata": {
  "kernelspec": {
   "display_name": "NFLBigData",
   "language": "python",
   "name": "nflbigdata"
  },
  "language_info": {
   "codemirror_mode": {
    "name": "ipython",
    "version": 3
   },
   "file_extension": ".py",
   "mimetype": "text/x-python",
   "name": "python",
   "nbconvert_exporter": "python",
   "pygments_lexer": "ipython3",
   "version": "3.8.8"
  }
 },
 "nbformat": 4,
 "nbformat_minor": 5
}
