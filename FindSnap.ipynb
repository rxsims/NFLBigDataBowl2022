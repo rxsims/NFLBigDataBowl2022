{
 "cells": [
  {
   "cell_type": "code",
   "execution_count": 1,
   "id": "c48f2290",
   "metadata": {},
   "outputs": [],
   "source": [
    "import numpy as np\n",
    "import pandas as pd\n",
    "import matplotlib.pyplot as plt\n",
    "\n",
    "play_data = pd.read_csv('./data/plays.csv')\n",
    "pff_data = pd.read_csv('./data/PFFScoutingData.csv')\n",
    "\n",
    "discard_results = ['Non-Special Teams Result']#,'Blocked Punt']\n",
    "punt_plays = play_data[(play_data['specialTeamsPlayType']=='Punt')&(~play_data['specialTeamsResult'].isin(discard_results))]\n",
    "pff_punt = pff_data.merge(punt_plays[['gameId','playId']],on=['gameId','playId'],how='inner')\n",
    "\n",
    "fb_land = pd.read_csv('./ReducedData/fb_land.csv')\n",
    "\n",
    "# 2018 Football Tracking Data\n",
    "tracking_game = pd.read_csv('./data/tracking2018.csv', chunksize=10**5)\n",
    "football_tracking = pd.concat((x.query(\"displayName == 'football'\") for x in tracking_game), ignore_index=True)\n",
    "punt_fbtrack_18 = football_tracking.merge(punt_plays[['gameId','playId']],on=['gameId','playId'])\n",
    "punt_fbtrack_18['time'] = pd.to_datetime(punt_fbtrack_18['time'])\n",
    "\n",
    "# 2019 Football Tracking Data\n",
    "tracking_game = pd.read_csv('./data/tracking2019.csv', chunksize=10**5)\n",
    "football_tracking = pd.concat((x.query(\"displayName == 'football'\") for x in tracking_game), ignore_index=True)\n",
    "punt_fbtrack_19 = football_tracking.merge(punt_plays[['gameId','playId']],on=['gameId','playId'])\n",
    "punt_fbtrack_19['time'] = pd.to_datetime(punt_fbtrack_19['time'])\n",
    "\n",
    "# 2020 Football Tracking Data\n",
    "tracking_game = pd.read_csv('./data/tracking2020.csv', chunksize=10**5)\n",
    "football_tracking = pd.concat((x.query(\"displayName == 'football'\") for x in tracking_game), ignore_index=True)\n",
    "punt_fbtrack_20 = football_tracking.merge(punt_plays[['gameId','playId']],on=['gameId','playId'])\n",
    "punt_fbtrack_20['time'] = pd.to_datetime(punt_fbtrack_20['time'])\n",
    "\n",
    "# Combine all above tracking data\n",
    "punt_fbtrack = pd.concat([punt_fbtrack_18,punt_fbtrack_19,punt_fbtrack_20]) \\\n",
    "                .sort_values(by=['gameId','playId','frameId']) \\\n",
    "                .drop(columns=['o','dir','nflId','displayName','jerseyNumber','position','team']) \\\n",
    "                .reset_index(drop=True)"
   ]
  },
  {
   "cell_type": "markdown",
   "id": "e898188f",
   "metadata": {},
   "source": [
    "### Snap Frame\n",
    "\n",
    "When the play has a 'ball_snap' event, always use it.\n",
    "\n",
    "When the 1st frame has a value of dx > 0.1, look at frame 1\n",
    "\n",
    "For the 4 games remaining, find first frame with a somewhat large dx."
   ]
  },
  {
   "cell_type": "code",
   "execution_count": 2,
   "id": "e37c737f",
   "metadata": {},
   "outputs": [],
   "source": [
    "fb_use = punt_fbtrack.merge(fb_land[['gameId','playId']]).copy()\n",
    "fb_use['dx'] = fb_use.groupby(['gameId','playId'])['x'].diff(-1)\n",
    "snaps = fb_use[fb_use['event']=='ball_snap']\n",
    "\n",
    "no_snap = fb_use[~(fb_use['gameId'].astype(str) + fb_use['playId'].astype(str)) \\\n",
    "                 .isin((snaps['gameId'].astype(str) + snaps['playId'].astype(str)).values)]\n",
    "\n",
    "frame1_snap = no_snap[(no_snap['frameId']==1)&(np.abs(no_snap['dx'])>0.1)]\n",
    "\n",
    "remaining = fb_use.merge(no_snap[(no_snap['frameId']==1)&(np.abs(no_snap['dx'])<=0.1)][['gameId','playId']])\n",
    "early_snap = remaining[np.abs(remaining['dx'])>0.1].groupby(['gameId','playId']).head(1)"
   ]
  },
  {
   "cell_type": "code",
   "execution_count": 3,
   "id": "cbf2aa9c",
   "metadata": {},
   "outputs": [],
   "source": [
    "snap_frames = pd.concat([snaps,frame1_snap,early_snap])[['gameId','playId','frameId']]\n",
    "snap_frames.rename({'frameId':'snap_frame'},axis=1,inplace=True)"
   ]
  },
  {
   "cell_type": "code",
   "execution_count": 83,
   "id": "77daad44",
   "metadata": {},
   "outputs": [],
   "source": [
    "snap_frames.sort_values(['gameId','playId']).to_csv('./ReducedData/snapframe.csv',index=False)"
   ]
  },
  {
   "cell_type": "code",
   "execution_count": null,
   "id": "31ff8aae",
   "metadata": {},
   "outputs": [],
   "source": []
  }
 ],
 "metadata": {
  "kernelspec": {
   "display_name": "NFLBigData",
   "language": "python",
   "name": "nflbigdata"
  },
  "language_info": {
   "codemirror_mode": {
    "name": "ipython",
    "version": 3
   },
   "file_extension": ".py",
   "mimetype": "text/x-python",
   "name": "python",
   "nbconvert_exporter": "python",
   "pygments_lexer": "ipython3",
   "version": "3.8.8"
  }
 },
 "nbformat": 4,
 "nbformat_minor": 5
}
